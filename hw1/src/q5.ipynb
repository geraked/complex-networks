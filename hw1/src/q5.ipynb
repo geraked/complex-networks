{
 "cells": [
  {
   "cell_type": "code",
   "execution_count": 1,
   "metadata": {},
   "outputs": [],
   "source": [
    "import seaborn as sns\n",
    "import matplotlib.pyplot as plt\n",
    "import random\n",
    "import time\n",
    "\n",
    "%matplotlib inline\n",
    "\n",
    "# style: darkgrid, whitegrid, dark, white, ticks\n",
    "# context: talk, paper, notebook, poster\n",
    "sns.reset_defaults()\n",
    "sns.set_theme(rc={'figure.dpi': 72, 'savefig.dpi': 300,\n",
    "              'figure.autolayout': True})\n",
    "sns.set_style('ticks')\n",
    "sns.set_context('paper')\n"
   ]
  },
  {
   "cell_type": "code",
   "execution_count": 2,
   "metadata": {},
   "outputs": [],
   "source": [
    "def ReadDG(file_path: str, sep: str = None) -> dict:\n",
    "    \"\"\"Read Directed Graph\n",
    "\n",
    "    Returns:\n",
    "        dict: Adjacency list.\n",
    "    \"\"\"\n",
    "    V = {}\n",
    "    with open(file_path) as f:\n",
    "        for l in f:\n",
    "            try:\n",
    "                u, v = map(int, l.split(sep))\n",
    "            except:\n",
    "                continue\n",
    "            d = {'in': set(), 'out': set()}\n",
    "            V.setdefault(u, d)['out'].add(v)\n",
    "            V.setdefault(v, d)['in'].add(u)\n",
    "    return V\n",
    "\n",
    "\n",
    "def IC(V: dict, S: set, p: float, o: int) -> tuple:\n",
    "    \"\"\"Independent Cascade Model\n",
    "\n",
    "    Args:\n",
    "        V (dict): Adjacency list.\n",
    "        S (set): Initial active set.\n",
    "        p (float): Edge activation probability.\n",
    "        o (int): Number of outbreaks.\n",
    "\n",
    "    Returns:\n",
    "        tuple: Expected reward, cost, reward/cost\n",
    "    \"\"\"\n",
    "    reward = 0\n",
    "    cost = 0\n",
    "    for oi in range(o):\n",
    "        Si = S.copy()\n",
    "        Si_new = S.copy()\n",
    "        while Si_new:\n",
    "            new_neighbors = set()\n",
    "            for u in Si_new:\n",
    "                for v in V[u]['out']:\n",
    "                    rp = random.random()\n",
    "                    if rp < p:\n",
    "                        new_neighbors.add(v)\n",
    "                        if v not in Si:\n",
    "                            cost += rp\n",
    "            Si_new = new_neighbors - Si\n",
    "            Si |= Si_new\n",
    "        reward += 0.25 * len(Si)\n",
    "        cost *= 0.8\n",
    "    reward /= o\n",
    "    cost /= o\n",
    "    rc = 0 if cost == 0 else reward / cost\n",
    "    return reward, cost, rc\n",
    "\n",
    "\n",
    "def Greedy(V: dict, b: float, p: float, o: int) -> tuple:\n",
    "    \"\"\"Outbreak Detection through Greedy Algorithm\n",
    "\n",
    "    Args:\n",
    "        V (dict): Adjacency list.\n",
    "        b (float): Budget.\n",
    "        p (float): Edge activation probability.\n",
    "        o (int): Number of outbreaks.\n",
    "\n",
    "    Returns:\n",
    "        tuple: nodes set, computation times, reward\n",
    "    \"\"\"\n",
    "    S = set()\n",
    "    f = 0\n",
    "    cost = 0\n",
    "    ctimes, stime = [], time.time()\n",
    "    while cost < b:\n",
    "        # Find the remaining node with largest marginal gain.\n",
    "        rest = set(V.keys()) - S\n",
    "        best_gain, bset_cost, best_node = 0, 0, -1\n",
    "        for u in rest:\n",
    "            fu, cu, _ = IC(V, S | {u}, p, o)\n",
    "            gu = fu - f\n",
    "            if gu > best_gain and cu <= b:\n",
    "                best_gain, best_cost, best_node = gu, cu, u\n",
    "        if best_node == -1:\n",
    "            break\n",
    "        S.add(best_node)\n",
    "        f += best_gain\n",
    "        cost += best_cost\n",
    "        ctimes.append(time.time() - stime)\n",
    "    return S, ctimes, f\n",
    "\n",
    "\n",
    "def CELF_util(V: dict, b: float, p: float, o: int, sort_index: int = 1) -> tuple:\n",
    "    \"\"\"Outbreak Detection through CELF Algorithm\n",
    "\n",
    "    Args:\n",
    "        V (dict): Adjacency list.\n",
    "        b (float): Budget.\n",
    "        p (float): Edge activation probability.\n",
    "        o (int): Number of outbreaks.\n",
    "        sort_index (int): 1 means sort by reward, 3 means sort by reward/cost\n",
    "\n",
    "    Returns:\n",
    "        tuple: nodes set, computation times\n",
    "    \"\"\"\n",
    "\n",
    "    # Perform the first iteration through greedy approach.\n",
    "    stime = time.time()\n",
    "    gains = [(u, *IC(V, {u}, p, o)) for u in V]\n",
    "    gains.sort(key=lambda x: x[sort_index], reverse=True)\n",
    "    S = {gains[0][0]}\n",
    "    f = gains[0][1]\n",
    "    cost = gains[0][2]\n",
    "    gains = gains[1:]\n",
    "    ctimes = [time.time() - stime]\n",
    "\n",
    "    while cost < b:\n",
    "        top = -1\n",
    "        while top != gains[0][0]:\n",
    "            top = gains[0][0]\n",
    "            ft, ct, rct = IC(V, S | {top}, p, o)\n",
    "            if ct > b:\n",
    "                gains.pop(0)\n",
    "                continue\n",
    "            gt = ft - f\n",
    "            gains[0] = (top, gt, ct, rct)\n",
    "            gains.sort(key=lambda x: x[sort_index], reverse=True)\n",
    "        if len(gains) == 0:\n",
    "            break\n",
    "        S.add(gains[0][0])\n",
    "        f += gains[0][1]\n",
    "        cost += gains[0][2]\n",
    "        ctimes.append(time.time() - stime)\n",
    "        gains = gains[1:]\n",
    "\n",
    "    return S, ctimes, f\n",
    "\n",
    "\n",
    "def CELF(V: dict, b: float, p: float, o: int) -> tuple:\n",
    "    \"\"\"Outbreak Detection through CELF Algorithm\n",
    "\n",
    "    Args:\n",
    "        V (dict): Adjacency list.\n",
    "        b (float): Budget.\n",
    "        p (float): Edge activation probability.\n",
    "        o (int): Number of outbreaks.\n",
    "\n",
    "    Returns:\n",
    "        tuple: nodes set, computation times, reward\n",
    "    \"\"\"\n",
    "    start = time.time()\n",
    "    s1, ct1, r1 = CELF_util(V, b, p, o, 1)\n",
    "    s2, ct2, r2 = CELF_util(V, b, p, o, 3)\n",
    "    ct = time.time() - start\n",
    "    if r2 > r1:\n",
    "        ct2 = list(map(lambda x: x + ct, ct2))\n",
    "        return s2, ct2, r2\n",
    "    ct1 = list(map(lambda x: x + ct, ct1))\n",
    "    return s1, ct1, r1\n"
   ]
  },
  {
   "cell_type": "code",
   "execution_count": 3,
   "metadata": {},
   "outputs": [],
   "source": [
    "# Astro Physics collaboration network\n",
    "# https://snap.stanford.edu/data/ca-AstroPh.html\n",
    "V = ReadDG('datasets/CA-AstroPh.txt')"
   ]
  },
  {
   "cell_type": "code",
   "execution_count": 27,
   "metadata": {},
   "outputs": [],
   "source": [
    "B = 0.001\n",
    "P = 0.001\n",
    "O = 50\n",
    "random.seed(2)"
   ]
  },
  {
   "cell_type": "code",
   "execution_count": 32,
   "metadata": {},
   "outputs": [
    {
     "name": "stdout",
     "output_type": "stream",
     "text": [
      "Greedy benefit: 3.3333333333333335\n",
      "Greedy nodes: {93504, 81761, 9667, 69643, 23596, 75223, 35290, 86651, 53213, 32191}\n",
      "Greedy computation time: 692.61s\n"
     ]
    }
   ],
   "source": [
    "gr_set, gr_times, gr_f = Greedy(V, b=B, p=P, o=O)\n",
    "\n",
    "print(\"Greedy benefit:\", gr_f)\n",
    "print(\"Greedy nodes:\", gr_set)\n",
    "print(\"Greedy computation time:\", f\"{gr_times[-1]:.2f}s\")"
   ]
  },
  {
   "cell_type": "code",
   "execution_count": 31,
   "metadata": {},
   "outputs": [
    {
     "name": "stdout",
     "output_type": "stream",
     "text": [
      "CELF benefit: 16.6\n",
      "CELF nodes: {124928, 34945, 70275, 115076, 12680, 11913, 63625, 59277, 59278, 85779, 110740, 70291, 102806, 5527, 66707, 32664, 118170, 6548, 32796, 133142, 58654, 120732, 2856, 27690, 108330, 125612, 116397, 100778, 57649, 38450, 55729, 63284, 33203, 73271, 12218, 131133, 95680, 39108, 48073, 42572, 107852, 60108, 57295, 69202, 126550, 125399, 70488, 34524, 19166, 33886, 111072, 85986, 28003, 101994, 69228, 47213, 2159, 78191, 76784, 8561, 67955, 89461, 118520, 85883, 55805}\n",
      "CELF computation time: 50.91s\n"
     ]
    }
   ],
   "source": [
    "ce_set, ce_times, ce_f = CELF(V, b=B, p=P, o=O)\n",
    "\n",
    "print(\"CELF benefit:\", ce_f)\n",
    "print(\"CELF nodes:\", ce_set)\n",
    "print(\"CELF computation time:\", f\"{ce_times[-1]:.2f}s\")"
   ]
  },
  {
   "cell_type": "code",
   "execution_count": 35,
   "metadata": {},
   "outputs": [
    {
     "name": "stdout",
     "output_type": "stream",
     "text": [
      "Similar nodes: set()\n"
     ]
    },
    {
     "data": {
      "image/png": "[encoded data removed]",
      "text/plain": [
       "<Figure size 460.8x345.6 with 1 Axes>"
      ]
     },
     "metadata": {},
     "output_type": "display_data"
    }
   ],
   "source": [
    "print(\"Similar nodes:\", gr_set & ce_set)\n",
    "\n",
    "gr_x = list(range(1, len(gr_times) + 1))\n",
    "ce_x = list(range(1, len(ce_times) + 1))\n",
    "x = ce_x if len(ce_x) < len(gr_x) else gr_x\n",
    "ax = sns.lineplot(x=gr_x, y=gr_times, label=\"Greedy\")\n",
    "sns.lineplot(x=ce_x, y=ce_times, label=\"CELF\", ax=ax)\n",
    "ax.set(\n",
    "    title=\"Outbreak Detection on Astro Physics\",\n",
    "    xlabel=\"Nodes\",\n",
    "    ylabel=\"Computation time (seconds)\",\n",
    "    # xticks=x,\n",
    ")\n",
    "plt.savefig('q5.png')\n",
    "plt.show()\n"
   ]
  }
 ],
 "metadata": {
  "kernelspec": {
   "display_name": "Python 3.10.2 64-bit",
   "language": "python",
   "name": "python3"
  },
  "language_info": {
   "codemirror_mode": {
    "name": "ipython",
    "version": 3
   },
   "file_extension": ".py",
   "mimetype": "text/x-python",
   "name": "python",
   "nbconvert_exporter": "python",
   "pygments_lexer": "ipython3",
   "version": "3.10.2"
  },
  "orig_nbformat": 4,
  "vscode": {
   "interpreter": {
    "hash": "2b324498af64d22b4773901be112d66dec816013b7f64fed368c8550f7daba2d"
   }
  }
 },
 "nbformat": 4,
 "nbformat_minor": 2
}
