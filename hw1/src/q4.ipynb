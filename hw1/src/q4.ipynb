{
 "cells": [
  {
   "cell_type": "code",
   "execution_count": 15,
   "metadata": {},
   "outputs": [],
   "source": [
    "import seaborn as sns\n",
    "import matplotlib.pyplot as plt\n",
    "import random\n",
    "import time\n",
    "\n",
    "%matplotlib inline\n",
    "\n",
    "# style: darkgrid, whitegrid, dark, white, ticks\n",
    "# context: talk, paper, notebook, poster\n",
    "sns.reset_defaults()\n",
    "sns.set_theme(rc={'figure.dpi': 72, 'savefig.dpi': 300,\n",
    "              'figure.autolayout': True})\n",
    "sns.set_style('ticks')\n",
    "sns.set_context('paper')\n"
   ]
  },
  {
   "cell_type": "code",
   "execution_count": 16,
   "metadata": {},
   "outputs": [],
   "source": [
    "def ReadDG(file_path: str, sep: str = None) -> dict:\n",
    "    \"\"\"Read Directed Graph\n",
    "\n",
    "    Returns:\n",
    "        dict: Adjacency list.\n",
    "    \"\"\"\n",
    "    V = {}\n",
    "    with open(file_path) as f:\n",
    "        for l in f:\n",
    "            try:\n",
    "                u, v = map(int, l.split(sep))\n",
    "            except:\n",
    "                continue\n",
    "            d = {'in': set(), 'out': set()}\n",
    "            V.setdefault(u, d)['out'].add(v)\n",
    "            V.setdefault(v, d)['in'].add(u)\n",
    "    return V\n",
    "\n",
    "\n",
    "def IC(V: dict, S: set, p: float, r: int) -> int:\n",
    "    \"\"\"Independent Cascade Model\n",
    "\n",
    "    Args:\n",
    "        V (dict): Adjacency list.\n",
    "        S (set): Initial active set.\n",
    "        p (float): Edge activation probability.\n",
    "        r (int): Number of realizations.\n",
    "\n",
    "    Returns:\n",
    "        int: Expected cascade size.\n",
    "    \"\"\"\n",
    "    f = 0  # Expected cascade size\n",
    "    for ri in range(r):\n",
    "        Si = S.copy()  # Active set in realization i\n",
    "        Si_new = S.copy()  # Newly activated nodes\n",
    "        while Si_new:\n",
    "            # Activate neighbors of each active node.\n",
    "            new_neighbors = set()\n",
    "            for u in Si_new:\n",
    "                for v in V[u]['out']:\n",
    "                    if random.random() < p:\n",
    "                        new_neighbors.add(v)\n",
    "            Si_new = new_neighbors - Si\n",
    "            Si |= Si_new\n",
    "        f += len(Si)\n",
    "    return f\n",
    "\n",
    "\n",
    "def Greedy(V: dict, k: int, p: float, r: int) -> tuple:\n",
    "    \"\"\"Influence Maximization through Greedy Algorithm\n",
    "    Find most the influential set S of size k.\n",
    "\n",
    "    Args:\n",
    "        V (dict): Adjacency list.\n",
    "        k (int): Size of influential set.\n",
    "        p (float): Edge activation probability.\n",
    "        r (int): Number of realizations.\n",
    "\n",
    "    Returns:\n",
    "        tuple: influential set, computation times\n",
    "    \"\"\"\n",
    "    S = set()\n",
    "    f = 0\n",
    "    ctimes, stime = [], time.time()\n",
    "\n",
    "    for ki in range(k):\n",
    "        # Find the remaining node with largest marginal gain.\n",
    "        rest = set(V.keys()) - S\n",
    "        best_gain, best_node = 0, -1\n",
    "        for u in rest:\n",
    "            gu = IC(V, S | {u}, p, r) - f\n",
    "            if gu > best_gain:\n",
    "                best_gain, best_node = gu, u\n",
    "        S.add(best_node)\n",
    "        f += best_gain\n",
    "        ctimes.append(time.time() - stime)\n",
    "    return S, ctimes\n",
    "\n",
    "\n",
    "def CELF(V: dict, k: int, p: float, r: int) -> tuple:\n",
    "    \"\"\"Influence Maximization through CELF Algorithm\n",
    "    Find most the influential set S of size k.\n",
    "\n",
    "    Args:\n",
    "        V (dict): Adjacency list.\n",
    "        k (int): Size of influential set.\n",
    "        p (float): Edge activation probability.\n",
    "        r (int): Number of realizations.\n",
    "\n",
    "    Returns:\n",
    "        tuple: influential set, computation times\n",
    "    \"\"\"\n",
    "\n",
    "    # Perform the first iteration through greedy approach.\n",
    "    stime = time.time()\n",
    "    gains = [(u, IC(V, {u}, p, r)) for u in V]\n",
    "    gains.sort(key=lambda x: x[1], reverse=True)\n",
    "    S = {gains[0][0]}\n",
    "    f = gains[0][1]\n",
    "    gains = gains[1:]\n",
    "    ctimes = [time.time() - stime]\n",
    "\n",
    "    for ki in range(1, k):\n",
    "        top = -1\n",
    "        while top != gains[0][0]:\n",
    "            top = gains[0][0]\n",
    "            gains[0] = (top, IC(V, S | {top}, p, r) - f)\n",
    "            gains.sort(key=lambda x: x[1], reverse=True)\n",
    "        S.add(gains[0][0])\n",
    "        f += gains[0][1]\n",
    "        ctimes.append(time.time() - stime)\n",
    "        gains = gains[1:]\n",
    "\n",
    "    return S, ctimes\n"
   ]
  },
  {
   "cell_type": "code",
   "execution_count": 17,
   "metadata": {},
   "outputs": [],
   "source": [
    "# Astro Physics collaboration network\n",
    "# https://snap.stanford.edu/data/ca-AstroPh.html\n",
    "V = ReadDG('datasets/CA-AstroPh.txt')"
   ]
  },
  {
   "cell_type": "code",
   "execution_count": 18,
   "metadata": {},
   "outputs": [],
   "source": [
    "K = 10\n",
    "P = 0.001\n",
    "R = 100\n",
    "\n",
    "random.seed(2)\n",
    "gr_set, gr_times = Greedy(V, k=K, p=P, r=R)\n",
    "ce_set, ce_times = CELF(V, k=K, p=P, r=R)"
   ]
  },
  {
   "cell_type": "code",
   "execution_count": 21,
   "metadata": {},
   "outputs": [
    {
     "name": "stdout",
     "output_type": "stream",
     "text": [
      "Greedy result: {93504, 62821, 81286, 67303, 37653, 64054, 92790, 124566, 35290, 53213}\n",
      "CELF result: {44866, 62821, 34608, 53213, 67410, 92790, 115607, 50808, 45530, 38109}\n",
      "Similar nodes: {53213, 62821, 92790}\n",
      "Greedy computation time: 3524.07s\n",
      "CELF computation time: 11.82s\n"
     ]
    },
    {
     "data": {
      "image/png": "[encoded data removed]",
      "text/plain": [
       "<Figure size 460.8x345.6 with 1 Axes>"
      ]
     },
     "metadata": {},
     "output_type": "display_data"
    }
   ],
   "source": [
    "print(\"Greedy result:\", gr_set)\n",
    "print(\"CELF result:\", ce_set)\n",
    "print(\"Similar nodes:\", gr_set & ce_set)\n",
    "print(\"Greedy computation time:\", f\"{gr_times[-1]:.2f}s\")\n",
    "print(\"CELF computation time:\", f\"{ce_times[-1]:.2f}s\")\n",
    "\n",
    "x = list(range(1, K+1))\n",
    "ax = sns.lineplot(x=x, y=gr_times, label=\"Greedy\")\n",
    "sns.lineplot(x=x, y=ce_times, label=\"CELF\", ax=ax)\n",
    "ax.set(\n",
    "    title=\"Influence Maximization on Astro Physics\",\n",
    "    xlabel=\"Target set size k\",\n",
    "    ylabel=\"Computation time (seconds)\",\n",
    "    xticks=x,\n",
    ")\n",
    "plt.savefig('q4.png')\n",
    "plt.show()\n"
   ]
  }
 ],
 "metadata": {
  "kernelspec": {
   "display_name": "Python 3.10.2 64-bit",
   "language": "python",
   "name": "python3"
  },
  "language_info": {
   "codemirror_mode": {
    "name": "ipython",
    "version": 3
   },
   "file_extension": ".py",
   "mimetype": "text/x-python",
   "name": "python",
   "nbconvert_exporter": "python",
   "pygments_lexer": "ipython3",
   "version": "3.10.2"
  },
  "orig_nbformat": 4,
  "vscode": {
   "interpreter": {
    "hash": "2b324498af64d22b4773901be112d66dec816013b7f64fed368c8550f7daba2d"
   }
  }
 },
 "nbformat": 4,
 "nbformat_minor": 2
}
