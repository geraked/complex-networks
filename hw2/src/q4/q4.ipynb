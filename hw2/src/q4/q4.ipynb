{
 "cells": [
  {
   "cell_type": "code",
   "execution_count": 18,
   "metadata": {},
   "outputs": [],
   "source": [
    "import math\n",
    "import numpy as np\n",
    "import pandas as pd\n",
    "import networkx as nx\n",
    "import matplotlib.pyplot as plt\n",
    "import seaborn as sns\n",
    "from tabulate import tabulate\n",
    "\n",
    "import warnings\n",
    "warnings.filterwarnings('ignore')\n",
    "\n",
    "sns.reset_defaults()\n",
    "sns.set_theme(rc={'figure.dpi': 72, 'savefig.dpi': 300,\n",
    "              'figure.autolayout': True})\n",
    "sns.set_style('ticks')\n",
    "sns.set_context('paper')\n"
   ]
  },
  {
   "cell_type": "code",
   "execution_count": 19,
   "metadata": {},
   "outputs": [
    {
     "name": "stdout",
     "output_type": "stream",
     "text": [
      "Graph with 7115 nodes and 100762 edges\n"
     ]
    }
   ],
   "source": [
    "# Wikipedia vote network dataset\n",
    "# https://snap.stanford.edu/data/wiki-Vote.html\n",
    "# Note: It is a directed graph, but we ignore the directions!\n",
    "\n",
    "G = nx.read_edgelist('../datasets/wiki-Vote.txt.gz', nodetype=int)\n",
    "print(nx.info(G))"
   ]
  },
  {
   "cell_type": "code",
   "execution_count": 27,
   "metadata": {},
   "outputs": [],
   "source": [
    "def modularity(G, S):\n",
    "    m = sum(dict(G.degree).values()) / 2\n",
    "\n",
    "    def f(s):\n",
    "        # Number of intra-partition edges\n",
    "        E_s = sum(1 for u, v in G.edges(s) if v in s)\n",
    "\n",
    "        # Sum of degrees of the nodes in the partition\n",
    "        K_s = sum(G.degree[u] for u in s)\n",
    "\n",
    "        return E_s / m - (K_s / (2 * m)) ** 2\n",
    "\n",
    "    Q = sum(map(f, S))\n",
    "    return Q\n",
    "\n",
    "\n",
    "def largest_eig(B, power_method=True, max_iter=100, tol=1e-6):\n",
    "    if power_method:\n",
    "        # Find the largest eigenvalue and eigenvector using the power method.\n",
    "        n = B.shape[1]\n",
    "        v = np.ones(n) * (1 / math.sqrt(n))\n",
    "        lam_prev = 0\n",
    "        for i in range(max_iter):\n",
    "            v = B @ v\n",
    "            v /= np.linalg.norm(v)\n",
    "            lam = (v.T @ B @ v) / (v.T @ v)\n",
    "            if np.abs(lam - lam_prev) < tol:\n",
    "                break\n",
    "            lam_prev = lam\n",
    "        return lam, v\n",
    "    else:\n",
    "        # Find the largest eigenvalue and eigenvector using the NumPy ready-to-use function.\n",
    "        lam, X = np.linalg.eig(B)\n",
    "        lam, X = np.real_if_close(lam), np.real_if_close(X)\n",
    "        i = np.argsort(lam)\n",
    "        l, x = lam[i[-1]], X[:, i[-1]]\n",
    "        return np.array(l, dtype=float), np.array(x, dtype=float)\n",
    "\n",
    "\n",
    "def find_coms(G):\n",
    "    \"\"\"Community Detection Using Fast Modularity Optimization Algorithm\"\"\"\n",
    "    coms = []  # Indivisible communities\n",
    "    check = [set(G.nodes)]\n",
    "\n",
    "    # Repeat hierarchically.\n",
    "    # If all communities are indivisible, stop.\n",
    "    while len(check) > 0:\n",
    "        g = G.subgraph(check.pop(0))\n",
    "        node = list(g)\n",
    "        A = nx.to_scipy_sparse_array(g, dtype=int)  # Adjacency matrix\n",
    "\n",
    "        # Calculate the modularity matrix\n",
    "        k = A.sum(axis=1)\n",
    "        m = k.sum() / 2\n",
    "        K = np.outer(k, k) / (2 * m)  # Expected adjacency matrix\n",
    "        B = np.array(np.asmatrix(A - K))  # Modularity matrix\n",
    "\n",
    "        # Divide the nodes by the signs of the elements of x_n\n",
    "        lam, x = largest_eig(B)\n",
    "        c1 = {node[i] for i, v in enumerate(x) if v >= 0}\n",
    "        c2 = set(g.nodes) - c1\n",
    "\n",
    "        if len(c1) == 0 or len(c2) == 0:\n",
    "            coms.append(set(g.nodes))\n",
    "            continue\n",
    "\n",
    "        Q_prev = modularity(G, [*coms, *check, set(g.nodes)])\n",
    "        Q = modularity(G, [*coms, *check, c1, c2])\n",
    "\n",
    "        if Q < Q_prev:\n",
    "            # If a proposed split does not cause modularity to increase,\n",
    "            # declare community indivisible and do not split it.\n",
    "            coms.append(set(g.nodes))\n",
    "        else:\n",
    "            check.append(c1)\n",
    "            check.append(c2)\n",
    "\n",
    "    return coms\n"
   ]
  },
  {
   "cell_type": "code",
   "execution_count": 28,
   "metadata": {},
   "outputs": [
    {
     "name": "stdout",
     "output_type": "stream",
     "text": [
      "Results for the Fast Modularity Optimization Algorithm:\n",
      "Number of detected communities: 3\n",
      "Modularity: 0.3998\n"
     ]
    }
   ],
   "source": [
    "coms = find_coms(G)\n",
    "print(\"Results for the Fast Modularity Optimization Algorithm:\")\n",
    "print(\"Number of detected communities:\", len(coms))\n",
    "print(\"Modularity:\", round(modularity(G, coms), 4))\n"
   ]
  },
  {
   "cell_type": "code",
   "execution_count": 22,
   "metadata": {},
   "outputs": [
    {
     "name": "stdout",
     "output_type": "stream",
     "text": [
      "Results for the NetworkX Greedy Algorithm:\n",
      "Number of detected communities: 55\n",
      "Modularity: 0.3402\n"
     ]
    }
   ],
   "source": [
    "gcoms = nx.community.greedy_modularity_communities(G)\n",
    "print(\"Results for the NetworkX Greedy Algorithm:\")\n",
    "print(\"Number of detected communities:\", len(gcoms))\n",
    "print(\"Modularity:\", round(modularity(G, gcoms), 4))\n"
   ]
  },
  {
   "cell_type": "code",
   "execution_count": 23,
   "metadata": {},
   "outputs": [
    {
     "name": "stdout",
     "output_type": "stream",
     "text": [
      "Results for the NetworkX Louvain Algorithm:\n",
      "Number of detected communities: 29\n",
      "Modularity: 0.4264\n"
     ]
    }
   ],
   "source": [
    "lcoms = nx.community.louvain_communities(G, seed=2)\n",
    "print(\"Results for the NetworkX Louvain Algorithm:\")\n",
    "print(\"Number of detected communities:\", len(lcoms))\n",
    "print(\"Modularity:\", round(modularity(G, lcoms), 4))\n"
   ]
  },
  {
   "cell_type": "code",
   "execution_count": 24,
   "metadata": {},
   "outputs": [],
   "source": [
    "# Save detected communities using\n",
    "# Fast Modularity Optimization Algorithm to file.\n",
    "with open('communities.txt', 'w') as f:\n",
    "    for i, c in enumerate(coms, 1):\n",
    "        f.write(\"#\"*10 + f\" Community {i}:\\n\\n\")\n",
    "        f.write(str(c) + '\\n'*5)\n"
   ]
  }
 ],
 "metadata": {
  "kernelspec": {
   "display_name": "Python 3.10.2 64-bit",
   "language": "python",
   "name": "python3"
  },
  "language_info": {
   "codemirror_mode": {
    "name": "ipython",
    "version": 3
   },
   "file_extension": ".py",
   "mimetype": "text/x-python",
   "name": "python",
   "nbconvert_exporter": "python",
   "pygments_lexer": "ipython3",
   "version": "3.10.2"
  },
  "orig_nbformat": 4,
  "vscode": {
   "interpreter": {
    "hash": "2b324498af64d22b4773901be112d66dec816013b7f64fed368c8550f7daba2d"
   }
  }
 },
 "nbformat": 4,
 "nbformat_minor": 2
}
